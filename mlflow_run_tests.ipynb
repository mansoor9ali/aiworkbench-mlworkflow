{
 "cells": [
  {
   "cell_type": "code",
   "execution_count": 1,
   "id": "c1a387a8-ef3d-487d-b6fd-dcfa41773ed2",
   "metadata": {},
   "outputs": [
    {
     "name": "stdout",
     "output_type": "stream",
     "text": [
      "Defaulting to user installation because normal site-packages is not writeable\n",
      "Looking in indexes: https://pypi.org/simple, https://pypi.ngc.nvidia.com\n",
      "Requirement already satisfied: pip in /home/workbench/.local/lib/python3.10/site-packages (25.0)\n",
      "Defaulting to user installation because normal site-packages is not writeable\n",
      "Looking in indexes: https://pypi.org/simple, https://pypi.ngc.nvidia.com\n",
      "Requirement already satisfied: numpy in /home/workbench/.local/lib/python3.10/site-packages (2.2.2)\n"
     ]
    }
   ],
   "source": [
    "!python -m pip install --upgrade pip\n",
    "\n",
    "!pip install --upgrade numpy"
   ]
  },
  {
   "cell_type": "code",
   "execution_count": 2,
   "id": "422daf94-41fd-402b-867f-e8fd02ebf5b4",
   "metadata": {},
   "outputs": [],
   "source": [
    "get_ipython().system_raw(\"mlflow ui --port 5090 &\")"
   ]
  },
  {
   "cell_type": "code",
   "execution_count": 4,
   "id": "eaaa5095-d8b1-4251-9b66-69b589adabdb",
   "metadata": {},
   "outputs": [],
   "source": [
    "from pyngrok import ngrok"
   ]
  },
  {
   "cell_type": "code",
   "execution_count": 5,
   "id": "08dfc103-34f5-4ef4-8f9d-d9c5072e7474",
   "metadata": {},
   "outputs": [],
   "source": [
    "ngrok.kill()"
   ]
  },
  {
   "cell_type": "code",
   "execution_count": 6,
   "id": "c5697a21-5375-4bda-9a93-c023043e7bc9",
   "metadata": {},
   "outputs": [
    {
     "name": "stdout",
     "output_type": "stream",
     "text": [
      "Authtoken saved to configuration file: /home/workbench/.config/ngrok/ngrok.yml\n"
     ]
    }
   ],
   "source": [
    "!ngrok config add-authtoken 2sViGViQ9YXhZ93JPXnt9zp2kSn_5tS656cBtfCP4acM4JTkb"
   ]
  },
  {
   "cell_type": "code",
   "execution_count": 7,
   "id": "fd4ddda3-a908-44fd-bfe8-7dc8ac561a4f",
   "metadata": {
    "scrolled": true
   },
   "outputs": [],
   "source": [
    "ngrok_tunnel = ngrok.connect(addr=\"5090\", proto=\"http\", bind_tls=True)"
   ]
  },
  {
   "cell_type": "code",
   "execution_count": 8,
   "id": "abe85375-6ee1-4ed2-b312-3032991196a6",
   "metadata": {},
   "outputs": [
    {
     "name": "stdout",
     "output_type": "stream",
     "text": [
      "MLflow UI  https://4eba-67-254-220-141.ngrok-free.app\n"
     ]
    }
   ],
   "source": [
    "print(\"MLflow UI \", ngrok_tunnel.public_url)"
   ]
  },
  {
   "cell_type": "code",
   "execution_count": 9,
   "id": "02aa5b9c-543e-4e90-9eaa-8210223e44f0",
   "metadata": {},
   "outputs": [
    {
     "name": "stderr",
     "output_type": "stream",
     "text": [
      "\n",
      "A module that was compiled using NumPy 1.x cannot be run in\n",
      "NumPy 2.2.2 as it may crash. To support both 1.x and 2.x\n",
      "versions of NumPy, modules must be compiled with NumPy 2.0.\n",
      "Some module may need to rebuild instead e.g. with 'pybind11>=2.12'.\n",
      "\n",
      "If you are a user of the module, the easiest solution will be to\n",
      "downgrade to 'numpy<2' or try to upgrade the affected module.\n",
      "We expect that some modules will need time to support NumPy 2.\n",
      "\n",
      "Traceback (most recent call last):  File \"/usr/lib/python3.10/runpy.py\", line 196, in _run_module_as_main\n",
      "    return _run_code(code, main_globals, None,\n",
      "  File \"/usr/lib/python3.10/runpy.py\", line 86, in _run_code\n",
      "    exec(code, run_globals)\n",
      "  File \"/home/workbench/.local/lib/python3.10/site-packages/ipykernel_launcher.py\", line 18, in <module>\n",
      "    app.launch_new_instance()\n",
      "  File \"/home/workbench/.local/lib/python3.10/site-packages/traitlets/config/application.py\", line 1075, in launch_instance\n",
      "    app.start()\n",
      "  File \"/home/workbench/.local/lib/python3.10/site-packages/ipykernel/kernelapp.py\", line 739, in start\n",
      "    self.io_loop.start()\n",
      "  File \"/home/workbench/.local/lib/python3.10/site-packages/tornado/platform/asyncio.py\", line 205, in start\n",
      "    self.asyncio_loop.run_forever()\n",
      "  File \"/usr/lib/python3.10/asyncio/base_events.py\", line 603, in run_forever\n",
      "    self._run_once()\n",
      "  File \"/usr/lib/python3.10/asyncio/base_events.py\", line 1909, in _run_once\n",
      "    handle._run()\n",
      "  File \"/usr/lib/python3.10/asyncio/events.py\", line 80, in _run\n",
      "    self._context.run(self._callback, *self._args)\n",
      "  File \"/home/workbench/.local/lib/python3.10/site-packages/ipykernel/kernelbase.py\", line 545, in dispatch_queue\n",
      "    await self.process_one()\n",
      "  File \"/home/workbench/.local/lib/python3.10/site-packages/ipykernel/kernelbase.py\", line 534, in process_one\n",
      "    await dispatch(*args)\n",
      "  File \"/home/workbench/.local/lib/python3.10/site-packages/ipykernel/kernelbase.py\", line 437, in dispatch_shell\n",
      "    await result\n",
      "  File \"/home/workbench/.local/lib/python3.10/site-packages/ipykernel/ipkernel.py\", line 362, in execute_request\n",
      "    await super().execute_request(stream, ident, parent)\n",
      "  File \"/home/workbench/.local/lib/python3.10/site-packages/ipykernel/kernelbase.py\", line 778, in execute_request\n",
      "    reply_content = await reply_content\n",
      "  File \"/home/workbench/.local/lib/python3.10/site-packages/ipykernel/ipkernel.py\", line 449, in do_execute\n",
      "    res = shell.run_cell(\n",
      "  File \"/home/workbench/.local/lib/python3.10/site-packages/ipykernel/zmqshell.py\", line 549, in run_cell\n",
      "    return super().run_cell(*args, **kwargs)\n",
      "  File \"/home/workbench/.local/lib/python3.10/site-packages/IPython/core/interactiveshell.py\", line 3077, in run_cell\n",
      "    result = self._run_cell(\n",
      "  File \"/home/workbench/.local/lib/python3.10/site-packages/IPython/core/interactiveshell.py\", line 3132, in _run_cell\n",
      "    result = runner(coro)\n",
      "  File \"/home/workbench/.local/lib/python3.10/site-packages/IPython/core/async_helpers.py\", line 128, in _pseudo_sync_runner\n",
      "    coro.send(None)\n",
      "  File \"/home/workbench/.local/lib/python3.10/site-packages/IPython/core/interactiveshell.py\", line 3336, in run_cell_async\n",
      "    has_raised = await self.run_ast_nodes(code_ast.body, cell_name,\n",
      "  File \"/home/workbench/.local/lib/python3.10/site-packages/IPython/core/interactiveshell.py\", line 3519, in run_ast_nodes\n",
      "    if await self.run_code(code, result, async_=asy):\n",
      "  File \"/home/workbench/.local/lib/python3.10/site-packages/IPython/core/interactiveshell.py\", line 3579, in run_code\n",
      "    exec(code_obj, self.user_global_ns, self.user_ns)\n",
      "  File \"/tmp/ipykernel_1827/3048733953.py\", line 1, in <module>\n",
      "    import torch\n",
      "  File \"/usr/local/lib/python3.10/dist-packages/torch/__init__.py\", line 1361, in <module>\n",
      "    from .functional import *  # noqa: F403\n",
      "  File \"/usr/local/lib/python3.10/dist-packages/torch/functional.py\", line 7, in <module>\n",
      "    import torch.nn.functional as F\n",
      "  File \"/usr/local/lib/python3.10/dist-packages/torch/nn/__init__.py\", line 1, in <module>\n",
      "    from .modules import *  # noqa: F403\n",
      "  File \"/usr/local/lib/python3.10/dist-packages/torch/nn/modules/__init__.py\", line 35, in <module>\n",
      "    from .transformer import TransformerEncoder, TransformerDecoder, \\\n",
      "  File \"/usr/local/lib/python3.10/dist-packages/torch/nn/modules/transformer.py\", line 20, in <module>\n",
      "    device: torch.device = torch.device(torch._C._get_default_device()),  # torch.device('cpu'),\n",
      "/usr/local/lib/python3.10/dist-packages/torch/nn/modules/transformer.py:20: UserWarning: Failed to initialize NumPy: _ARRAY_API not found (Triggered internally at /opt/pytorch/pytorch/torch/csrc/utils/tensor_numpy.cpp:84.)\n",
      "  device: torch.device = torch.device(torch._C._get_default_device()),  # torch.device('cpu'),\n"
     ]
    }
   ],
   "source": [
    "import torch\n",
    "import torch.nn as nn\n",
    "from torch.nn import functional as F\n",
    "\n",
    "import pandas as pd\n",
    "import numpy as np\n",
    "from sklearn.model_selection import train_test_split\n",
    "\n",
    "import mlflow\n",
    "import mlflow.pytorch"
   ]
  },
  {
   "cell_type": "code",
   "execution_count": 10,
   "id": "b6386729-7285-491c-9b8c-0066067085f7",
   "metadata": {},
   "outputs": [
    {
     "ename": "RuntimeError",
     "evalue": "Numpy is not available",
     "output_type": "error",
     "traceback": [
      "\u001b[0;31m---------------------------------------------------------------------------\u001b[0m",
      "\u001b[0;31mRuntimeError\u001b[0m                              Traceback (most recent call last)",
      "Cell \u001b[0;32mIn[10], line 18\u001b[0m\n\u001b[1;32m     15\u001b[0m X_train \u001b[38;5;241m=\u001b[39m sc\u001b[38;5;241m.\u001b[39mfit_transform(X_train)\n\u001b[1;32m     16\u001b[0m X_test \u001b[38;5;241m=\u001b[39m sc\u001b[38;5;241m.\u001b[39mtransform(X_test)\n\u001b[0;32m---> 18\u001b[0m Xtrain_ \u001b[38;5;241m=\u001b[39m \u001b[43mtorch\u001b[49m\u001b[38;5;241;43m.\u001b[39;49m\u001b[43mfrom_numpy\u001b[49m\u001b[43m(\u001b[49m\u001b[43mX_train\u001b[49m\u001b[43m)\u001b[49m\u001b[38;5;241m.\u001b[39mfloat()\n\u001b[1;32m     19\u001b[0m Xtest_ \u001b[38;5;241m=\u001b[39m torch\u001b[38;5;241m.\u001b[39mfrom_numpy(X_test)\u001b[38;5;241m.\u001b[39mfloat()\n\u001b[1;32m     21\u001b[0m Xtrain_\n",
      "\u001b[0;31mRuntimeError\u001b[0m: Numpy is not available"
     ]
    }
   ],
   "source": [
    "mlflow.set_experiment(experiment_name=\"mlflow pytorch demo\")\n",
    "    \n",
    "dataset = pd.read_csv('https://raw.githubusercontent.com/futurexskill/ml-model-deployment/main/storepurchasedata_large.csv')\n",
    "dataset.describe()\n",
    "dataset.head()\n",
    "\n",
    "X = dataset.iloc[:, :-1].values\n",
    "y = dataset.iloc[:,-1].values\n",
    "\n",
    "\n",
    "X_train, X_test, y_train, y_test = train_test_split(X, y, test_size =.20,random_state=0)\n",
    "\n",
    "from sklearn.preprocessing import StandardScaler\n",
    "sc = StandardScaler()\n",
    "X_train = sc.fit_transform(X_train)\n",
    "X_test = sc.transform(X_test)\n",
    "\n",
    "Xtrain_ = torch.from_numpy(X_train).float()\n",
    "Xtest_ = torch.from_numpy(X_test).float()\n",
    "\n",
    "Xtrain_\n",
    "\n",
    "ytrain_ = torch.from_numpy(y_train)\n",
    "ytest_ = torch.from_numpy(y_test)\n",
    "\n",
    "ytrain_\n",
    "\n",
    "Xtrain_.shape, ytrain_.shape\n",
    "\n",
    "Xtest_.shape, ytest_.shape\n",
    "\n",
    "input_size=2\n",
    "output_size=2\n",
    "hidden_size=10\n",
    "\n",
    "class Net(nn.Module):\n",
    "   def __init__(self):\n",
    "       super(Net, self).__init__()\n",
    "       self.fc1 = torch.nn.Linear(input_size, hidden_size)\n",
    "       self.fc2 = torch.nn.Linear(hidden_size, hidden_size)\n",
    "       self.fc3 = torch.nn.Linear(hidden_size, output_size)\n",
    "\n",
    "\n",
    "   def forward(self, X):\n",
    "       X = torch.relu((self.fc1(X)))\n",
    "       X = torch.relu((self.fc2(X)))\n",
    "       X = self.fc3(X)\n",
    "\n",
    "       return F.log_softmax(X,dim=1)\n",
    "\n",
    "model = Net()\n",
    "\n",
    "optimizer = torch.optim.Adam(model.parameters(), lr=0.01)\n",
    "loss_fn = nn.NLLLoss()\n",
    "\n",
    "epochs = 150\n",
    "\n",
    "for epoch in range(epochs):\n",
    "  optimizer.zero_grad()\n",
    "  Ypred = model(Xtrain_)\n",
    "  loss = loss_fn(Ypred,  ytrain_)\n",
    "  loss.backward()\n",
    "  optimizer.step()\n",
    "  print('Epoch',epoch, 'loss',loss.item())\n",
    "\n",
    "mlflow.end_run()\n",
    "with mlflow.start_run() as run:\n",
    "    mlflow.log_param(\"epochs\", 150)\n",
    "    mlflow.pytorch.log_model(model, \"models\")\n",
    "    mlflow.log_metric(\"loss\", loss.item())"
   ]
  },
  {
   "cell_type": "code",
   "execution_count": null,
   "id": "9427a84d-9f26-4923-8d3b-4c2cf9a5e8db",
   "metadata": {},
   "outputs": [],
   "source": []
  },
  {
   "cell_type": "code",
   "execution_count": null,
   "id": "9faa4ee2-7882-49e7-aa77-139d01766ca7",
   "metadata": {},
   "outputs": [],
   "source": []
  },
  {
   "cell_type": "code",
   "execution_count": null,
   "id": "ff77743c-9fa0-4d9e-a75a-65e802c7d6ea",
   "metadata": {},
   "outputs": [],
   "source": []
  },
  {
   "cell_type": "code",
   "execution_count": null,
   "id": "be5c009e-da07-4900-9b51-7f62e947fa8b",
   "metadata": {},
   "outputs": [],
   "source": []
  },
  {
   "cell_type": "code",
   "execution_count": null,
   "id": "f5ce9a74-f772-44f5-bb8f-721a917a79a4",
   "metadata": {},
   "outputs": [],
   "source": []
  },
  {
   "cell_type": "code",
   "execution_count": null,
   "id": "1bd2bdd6-f7af-4db2-9ccc-73d24d167a1b",
   "metadata": {},
   "outputs": [],
   "source": []
  },
  {
   "cell_type": "code",
   "execution_count": 12,
   "id": "60c51b4c-a3a5-4598-a31e-6bebe3c7cfa9",
   "metadata": {},
   "outputs": [],
   "source": [
    "ngrok.kill()"
   ]
  },
  {
   "cell_type": "code",
   "execution_count": null,
   "id": "d8844b34-32de-4bc1-8b7c-7c46d8118068",
   "metadata": {},
   "outputs": [],
   "source": []
  }
 ],
 "metadata": {
  "kernelspec": {
   "display_name": "Python 3 (ipykernel)",
   "language": "python",
   "name": "python3"
  },
  "language_info": {
   "codemirror_mode": {
    "name": "ipython",
    "version": 3
   },
   "file_extension": ".py",
   "mimetype": "text/x-python",
   "name": "python",
   "nbconvert_exporter": "python",
   "pygments_lexer": "ipython3",
   "version": "3.10.12"
  }
 },
 "nbformat": 4,
 "nbformat_minor": 5
}
