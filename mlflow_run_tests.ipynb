{
 "cells": [
  {
   "cell_type": "code",
   "execution_count": 16,
   "id": "422daf94-41fd-402b-867f-e8fd02ebf5b4",
   "metadata": {},
   "outputs": [],
   "source": [
    "get_ipython().system_raw(\"mlflow ui --port 5090 &\")"
   ]
  },
  {
   "cell_type": "code",
   "execution_count": 17,
   "id": "eaaa5095-d8b1-4251-9b66-69b589adabdb",
   "metadata": {},
   "outputs": [],
   "source": [
    "from pyngrok import ngrok"
   ]
  },
  {
   "cell_type": "code",
   "execution_count": 36,
   "id": "08dfc103-34f5-4ef4-8f9d-d9c5072e7474",
   "metadata": {},
   "outputs": [],
   "source": [
    "ngrok.kill()"
   ]
  },
  {
   "cell_type": "code",
   "execution_count": 19,
   "id": "c5697a21-5375-4bda-9a93-c023043e7bc9",
   "metadata": {},
   "outputs": [
    {
     "name": "stdout",
     "output_type": "stream",
     "text": [
      "Authtoken saved to configuration file: /home/workbench/.config/ngrok/ngrok.yml\n"
     ]
    },
    {
     "name": "stderr",
     "output_type": "stream",
     "text": [
      "[2025-02-04 06:06:17 +0000] [2495] [ERROR] Connection in use: ('127.0.0.1', 5090)\n",
      "[2025-02-04 06:06:17 +0000] [2495] [ERROR] connection to ('127.0.0.1', 5090) failed: [Errno 98] Address already in use\n"
     ]
    }
   ],
   "source": [
    "!ngrok config add-authtoken 2sVwQYmf9x00hLx9OsT04T4Vk1R_3gyuN842eLrdSZYgebt5F"
   ]
  },
  {
   "cell_type": "code",
   "execution_count": 20,
   "id": "fd4ddda3-a908-44fd-bfe8-7dc8ac561a4f",
   "metadata": {
    "scrolled": true
   },
   "outputs": [
    {
     "name": "stderr",
     "output_type": "stream",
     "text": [
      "[2025-02-04 06:06:18 +0000] [2495] [ERROR] Connection in use: ('127.0.0.1', 5090)\n",
      "[2025-02-04 06:06:18 +0000] [2495] [ERROR] connection to ('127.0.0.1', 5090) failed: [Errno 98] Address already in use\n",
      "[2025-02-04 06:06:19 +0000] [2495] [ERROR] Can't connect to ('127.0.0.1', 5090)\n",
      "Running the mlflow server failed. Please see the logs above for details.\n"
     ]
    }
   ],
   "source": [
    "ngrok_tunnel = ngrok.connect(addr=\"5090\", proto=\"http\", bind_tls=True)"
   ]
  },
  {
   "cell_type": "code",
   "execution_count": 21,
   "id": "abe85375-6ee1-4ed2-b312-3032991196a6",
   "metadata": {},
   "outputs": [
    {
     "name": "stdout",
     "output_type": "stream",
     "text": [
      "MLflow UI  https://a1e3-67-254-220-141.ngrok-free.app\n"
     ]
    }
   ],
   "source": [
    "print(\"MLflow UI \", ngrok_tunnel.public_url)"
   ]
  },
  {
   "cell_type": "code",
   "execution_count": 22,
   "id": "02aa5b9c-543e-4e90-9eaa-8210223e44f0",
   "metadata": {},
   "outputs": [],
   "source": [
    "import random\n",
    "import string\n",
    "import yaml\n",
    "import requests\n",
    "import json\n",
    "\n",
    "\n",
    "import torch\n",
    "import torch.nn as nn\n",
    "from torch.nn import functional as F\n",
    "\n",
    "import pandas as pd\n",
    "import numpy as np\n",
    "from sklearn.model_selection import train_test_split\n",
    "\n",
    "import mlflow\n",
    "import mlflow.pytorch"
   ]
  },
  {
   "cell_type": "code",
   "execution_count": 23,
   "id": "a4fa0dff-f20d-4222-a482-8021d8662fe3",
   "metadata": {},
   "outputs": [],
   "source": [
    "def generate_random_experiment_name():\n",
    "    \"\"\"Generate a random experiment name.\"\"\"\n",
    "    prefix = \"experiment\"\n",
    "    random_suffix = ''.join(random.choices(string.ascii_lowercase + string.digits, k=8))\n",
    "    return f\"{prefix}-{random_suffix}\""
   ]
  },
  {
   "cell_type": "code",
   "execution_count": 34,
   "id": "b6386729-7285-491c-9b8c-0066067085f7",
   "metadata": {},
   "outputs": [
    {
     "name": "stderr",
     "output_type": "stream",
     "text": [
      "2025/02/04 07:34:02 WARNING mlflow.utils.autologging_utils: MLflow pytorch autologging is known to be compatible with 1.9.0 <= torch <= 2.5.1, but the installed version is 2.1.0a0+32f93b1. If you encounter errors during autologging, try upgrading / downgrading torch to a compatible version, or try upgrading MLflow.\n",
      "2025/02/04 07:34:02 INFO mlflow.tracking.fluent: Experiment with name 'experiment-cw5uk0zo' does not exist. Creating a new experiment.\n"
     ]
    },
    {
     "name": "stdout",
     "output_type": "stream",
     "text": [
      "experiment-cw5uk0zo\n",
      "Epoch 0 loss 0.7829716801643372\n",
      "Epoch 1 loss 0.7530030608177185\n",
      "Epoch 2 loss 0.7241042852401733\n",
      "Epoch 3 loss 0.6963628530502319\n",
      "Epoch 4 loss 0.6693798303604126\n",
      "Epoch 5 loss 0.6434211730957031\n",
      "Epoch 6 loss 0.6186364889144897\n",
      "Epoch 7 loss 0.5952240228652954\n",
      "Epoch 8 loss 0.5733435750007629\n",
      "Epoch 9 loss 0.5530135631561279\n",
      "Epoch 10 loss 0.534273624420166\n",
      "Epoch 11 loss 0.5174434185028076\n",
      "Epoch 12 loss 0.5023916363716125\n",
      "Epoch 13 loss 0.4887007772922516\n",
      "Epoch 14 loss 0.4763617217540741\n",
      "Epoch 15 loss 0.4649014472961426\n",
      "Epoch 16 loss 0.4543777108192444\n",
      "Epoch 17 loss 0.4442989230155945\n",
      "Epoch 18 loss 0.4347800314426422\n",
      "Epoch 19 loss 0.4251977503299713\n",
      "Epoch 20 loss 0.41589486598968506\n",
      "Epoch 21 loss 0.40656712651252747\n",
      "Epoch 22 loss 0.3981384336948395\n",
      "Epoch 23 loss 0.3899211585521698\n",
      "Epoch 24 loss 0.38207682967185974\n",
      "Epoch 25 loss 0.373961865901947\n",
      "Epoch 26 loss 0.36602187156677246\n",
      "Epoch 27 loss 0.3582989275455475\n",
      "Epoch 28 loss 0.350745290517807\n",
      "Epoch 29 loss 0.3433869481086731\n",
      "Epoch 30 loss 0.3361225128173828\n",
      "Epoch 31 loss 0.32912638783454895\n",
      "Epoch 32 loss 0.3225434124469757\n",
      "Epoch 33 loss 0.3161057233810425\n",
      "Epoch 34 loss 0.30956074595451355\n",
      "Epoch 35 loss 0.302500456571579\n",
      "Epoch 36 loss 0.2950327396392822\n",
      "Epoch 37 loss 0.2870253026485443\n",
      "Epoch 38 loss 0.2786702811717987\n",
      "Epoch 39 loss 0.2699691355228424\n",
      "Epoch 40 loss 0.26105427742004395\n",
      "Epoch 41 loss 0.25219568610191345\n",
      "Epoch 42 loss 0.24367588758468628\n",
      "Epoch 43 loss 0.2356012761592865\n",
      "Epoch 44 loss 0.22789131104946136\n",
      "Epoch 45 loss 0.22039909660816193\n",
      "Epoch 46 loss 0.21317188441753387\n",
      "Epoch 47 loss 0.20595680177211761\n",
      "Epoch 48 loss 0.19876332581043243\n",
      "Epoch 49 loss 0.191687673330307\n",
      "🏃 View run new-pytorch-run at: https://a1e3-67-254-220-141.ngrok-free.app/#/experiments/434393454808766406/runs/72b47c21cb834243b8f2399bf0341e44\n",
      "🧪 View experiment at: https://a1e3-67-254-220-141.ngrok-free.app/#/experiments/434393454808766406\n"
     ]
    }
   ],
   "source": [
    "mlflow.pytorch.autolog()\n",
    "\n",
    "#mlflow set experiement\n",
    "mlflow.tracking.set_tracking_uri(\"https://a1e3-67-254-220-141.ngrok-free.app/\")\n",
    "experiment_name=generate_random_experiment_name()\n",
    "print(experiment_name)\n",
    "mlflow.set_experiment(experiment_name=experiment_name)\n",
    "\n",
    "with mlflow.start_run(run_name = \"new-pytorch-run\") as run:\n",
    "    dataset = pd.read_csv('https://raw.githubusercontent.com/futurexskill/ml-model-deployment/main/storepurchasedata_large.csv')\n",
    "    \n",
    "    dataset.describe()\n",
    "    \n",
    "    dataset.head()\n",
    "    \n",
    "    X = dataset.iloc[:, :-1].values\n",
    "    y = dataset.iloc[:,-1].values\n",
    "    \n",
    "    from sklearn.model_selection import train_test_split\n",
    "    X_train, X_test, y_train, y_test = train_test_split(X, y, test_size =.20,random_state=0)\n",
    "    \n",
    "    from sklearn.preprocessing import StandardScaler\n",
    "    sc = StandardScaler()\n",
    "    X_train = sc.fit_transform(X_train)\n",
    "    X_test = sc.transform(X_test)\n",
    "    \n",
    "    Xtrain_ = torch.from_numpy(X_train).float()\n",
    "    Xtest_ = torch.from_numpy(X_test).float()\n",
    "    \n",
    "    Xtrain_\n",
    "    \n",
    "    ytrain_ = torch.from_numpy(y_train)\n",
    "    ytest_ = torch.from_numpy(y_test)\n",
    "    \n",
    "    ytrain_\n",
    "    \n",
    "    Xtrain_.shape, ytrain_.shape\n",
    "    \n",
    "    Xtest_.shape, ytest_.shape\n",
    "    \n",
    "    input_size=2\n",
    "    output_size=2\n",
    "    hidden_size=10\n",
    "    \n",
    "    class Net(nn.Module):\n",
    "       def __init__(self):\n",
    "           super(Net, self).__init__()\n",
    "           self.fc1 = torch.nn.Linear(input_size, hidden_size)\n",
    "           self.fc2 = torch.nn.Linear(hidden_size, hidden_size)\n",
    "           self.fc3 = torch.nn.Linear(hidden_size, output_size)\n",
    "    \n",
    "    \n",
    "       def forward(self, X):\n",
    "           X = torch.relu((self.fc1(X)))\n",
    "           X = torch.relu((self.fc2(X)))\n",
    "           X = self.fc3(X)\n",
    "    \n",
    "           return F.log_softmax(X,dim=1)\n",
    "    \n",
    "    model = Net()\n",
    "    \n",
    "    optimizer = torch.optim.Adam(model.parameters(), lr=0.01)\n",
    "    loss_fn = nn.NLLLoss()\n",
    "    \n",
    "    epochs = 50\n",
    "    \n",
    "    for epoch in range(epochs):\n",
    "      optimizer.zero_grad()\n",
    "      Ypred = model(Xtrain_)\n",
    "      loss = loss_fn(Ypred,  ytrain_)\n",
    "      loss.backward()\n",
    "      optimizer.step()\n",
    "      print('Epoch',epoch, 'loss',loss.item())\n",
    "    \n",
    "    mlflow.end_run()\n",
    "\n",
    "    # mlflow.log_param(\"epochs\", 50)\n",
    "    # mlflow.pytorch.log_model(model, \"models\")\n",
    "    # mlflow.log_metric(\"loss\", loss.item())"
   ]
  },
  {
   "cell_type": "code",
   "execution_count": null,
   "id": "9427a84d-9f26-4923-8d3b-4c2cf9a5e8db",
   "metadata": {},
   "outputs": [],
   "source": []
  },
  {
   "cell_type": "code",
   "execution_count": null,
   "id": "9faa4ee2-7882-49e7-aa77-139d01766ca7",
   "metadata": {},
   "outputs": [],
   "source": []
  },
  {
   "cell_type": "code",
   "execution_count": null,
   "id": "ff77743c-9fa0-4d9e-a75a-65e802c7d6ea",
   "metadata": {},
   "outputs": [],
   "source": []
  },
  {
   "cell_type": "code",
   "execution_count": null,
   "id": "be5c009e-da07-4900-9b51-7f62e947fa8b",
   "metadata": {},
   "outputs": [],
   "source": []
  },
  {
   "cell_type": "code",
   "execution_count": null,
   "id": "f5ce9a74-f772-44f5-bb8f-721a917a79a4",
   "metadata": {},
   "outputs": [],
   "source": []
  },
  {
   "cell_type": "code",
   "execution_count": null,
   "id": "1bd2bdd6-f7af-4db2-9ccc-73d24d167a1b",
   "metadata": {},
   "outputs": [],
   "source": []
  },
  {
   "cell_type": "code",
   "execution_count": 12,
   "id": "60c51b4c-a3a5-4598-a31e-6bebe3c7cfa9",
   "metadata": {},
   "outputs": [],
   "source": [
    "ngrok.kill()"
   ]
  },
  {
   "cell_type": "code",
   "execution_count": null,
   "id": "d8844b34-32de-4bc1-8b7c-7c46d8118068",
   "metadata": {},
   "outputs": [],
   "source": []
  }
 ],
 "metadata": {
  "kernelspec": {
   "display_name": "Python 3 (ipykernel)",
   "language": "python",
   "name": "python3"
  },
  "language_info": {
   "codemirror_mode": {
    "name": "ipython",
    "version": 3
   },
   "file_extension": ".py",
   "mimetype": "text/x-python",
   "name": "python",
   "nbconvert_exporter": "python",
   "pygments_lexer": "ipython3",
   "version": "3.10.12"
  }
 },
 "nbformat": 4,
 "nbformat_minor": 5
}
