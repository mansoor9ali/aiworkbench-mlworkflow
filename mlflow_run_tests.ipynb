{
 "cells": [
  {
   "cell_type": "code",
   "execution_count": 1,
   "id": "422daf94-41fd-402b-867f-e8fd02ebf5b4",
   "metadata": {},
   "outputs": [],
   "source": [
    "get_ipython().system_raw(\"mlflow ui --port 5090 &\")"
   ]
  },
  {
   "cell_type": "code",
   "execution_count": 2,
   "id": "eaaa5095-d8b1-4251-9b66-69b589adabdb",
   "metadata": {},
   "outputs": [],
   "source": [
    "from pyngrok import ngrok"
   ]
  },
  {
   "cell_type": "code",
   "execution_count": 3,
   "id": "08dfc103-34f5-4ef4-8f9d-d9c5072e7474",
   "metadata": {},
   "outputs": [
    {
     "name": "stderr",
     "output_type": "stream",
     "text": [
      "[2025-02-03 03:30:03 +0000] [530] [INFO] Starting gunicorn 23.0.0\n",
      "[2025-02-03 03:30:03 +0000] [530] [INFO] Listening at: http://127.0.0.1:5090 (530)\n",
      "[2025-02-03 03:30:03 +0000] [530] [INFO] Using worker: sync\n",
      "[2025-02-03 03:30:03 +0000] [531] [INFO] Booting worker with pid: 531\n",
      "[2025-02-03 03:30:03 +0000] [532] [INFO] Booting worker with pid: 532\n",
      "[2025-02-03 03:30:03 +0000] [533] [INFO] Booting worker with pid: 533\n",
      "[2025-02-03 03:30:03 +0000] [534] [INFO] Booting worker with pid: 534\n"
     ]
    }
   ],
   "source": [
    "ngrok.kill()"
   ]
  },
  {
   "cell_type": "code",
   "execution_count": 4,
   "id": "c5697a21-5375-4bda-9a93-c023043e7bc9",
   "metadata": {},
   "outputs": [
    {
     "name": "stdout",
     "output_type": "stream",
     "text": [
      "Authtoken saved to configuration file: /home/workbench/.config/ngrok/ngrok.yml                      \n"
     ]
    }
   ],
   "source": [
    "!ngrok config add-authtoken 2sViGViQ9YXhZ93JPXnt9zp2kSn_5tS656cBtfCP4acM4JTkb"
   ]
  },
  {
   "cell_type": "code",
   "execution_count": 5,
   "id": "fd4ddda3-a908-44fd-bfe8-7dc8ac561a4f",
   "metadata": {
    "scrolled": true
   },
   "outputs": [
    {
     "name": "stderr",
     "output_type": "stream",
     "text": [
      "t=2025-02-03T03:30:12+0000 lvl=warn msg=\"failed to check for update\" obj=updater err=\"Post \\\"https://update.equinox.io/check\\\": context deadline exceeded\"\n"
     ]
    }
   ],
   "source": [
    "ngrok_tunnel = ngrok.connect(addr=\"5090\", proto=\"http\", bind_tls=True)"
   ]
  },
  {
   "cell_type": "code",
   "execution_count": 7,
   "id": "abe85375-6ee1-4ed2-b312-3032991196a6",
   "metadata": {},
   "outputs": [
    {
     "name": "stdout",
     "output_type": "stream",
     "text": [
      "MLflow UI  https://5c6e-67-254-220-141.ngrok-free.app\n"
     ]
    }
   ],
   "source": [
    "print(\"MLflow UI \", ngrok_tunnel.public_url)"
   ]
  },
  {
   "cell_type": "code",
   "execution_count": 8,
   "id": "02aa5b9c-543e-4e90-9eaa-8210223e44f0",
   "metadata": {},
   "outputs": [],
   "source": [
    "import torch\n",
    "import torch.nn as nn\n",
    "from torch.nn import functional as F\n",
    "\n",
    "import pandas as pd\n",
    "import numpy as np\n",
    "from sklearn.model_selection import train_test_split\n",
    "\n",
    "import mlflow\n",
    "import mlflow.pytorch"
   ]
  },
  {
   "cell_type": "code",
   "execution_count": 9,
   "id": "b6386729-7285-491c-9b8c-0066067085f7",
   "metadata": {},
   "outputs": [
    {
     "name": "stdout",
     "output_type": "stream",
     "text": [
      "Epoch 0 loss 0.7213798761367798\n",
      "Epoch 1 loss 0.6947463750839233\n",
      "Epoch 2 loss 0.6685854196548462\n",
      "Epoch 3 loss 0.643220841884613\n",
      "Epoch 4 loss 0.618878185749054\n",
      "Epoch 5 loss 0.5953922867774963\n",
      "Epoch 6 loss 0.5716016888618469\n",
      "Epoch 7 loss 0.5472028255462646\n",
      "Epoch 8 loss 0.522203266620636\n",
      "Epoch 9 loss 0.496574729681015\n",
      "Epoch 10 loss 0.4701923429965973\n",
      "Epoch 11 loss 0.44324055314064026\n",
      "Epoch 12 loss 0.4165537357330322\n",
      "Epoch 13 loss 0.39010781049728394\n",
      "Epoch 14 loss 0.3645598888397217\n",
      "Epoch 15 loss 0.3399718701839447\n",
      "Epoch 16 loss 0.3166005611419678\n",
      "Epoch 17 loss 0.29524558782577515\n",
      "Epoch 18 loss 0.275443434715271\n",
      "Epoch 19 loss 0.2569441795349121\n",
      "Epoch 20 loss 0.2398807555437088\n",
      "Epoch 21 loss 0.22437231242656708\n",
      "Epoch 22 loss 0.21044106781482697\n",
      "Epoch 23 loss 0.19811205565929413\n",
      "Epoch 24 loss 0.18703149259090424\n",
      "Epoch 25 loss 0.1770717352628708\n",
      "Epoch 26 loss 0.16818960011005402\n",
      "Epoch 27 loss 0.16036830842494965\n",
      "Epoch 28 loss 0.15349934995174408\n",
      "Epoch 29 loss 0.14760369062423706\n",
      "Epoch 30 loss 0.1425359547138214\n",
      "Epoch 31 loss 0.13817331194877625\n",
      "Epoch 32 loss 0.1344090849161148\n",
      "Epoch 33 loss 0.13120460510253906\n",
      "Epoch 34 loss 0.1284375637769699\n",
      "Epoch 35 loss 0.12606629729270935\n",
      "Epoch 36 loss 0.12407391518354416\n",
      "Epoch 37 loss 0.12244582921266556\n",
      "Epoch 38 loss 0.12113605439662933\n",
      "Epoch 39 loss 0.12009692192077637\n",
      "Epoch 40 loss 0.11927427351474762\n",
      "Epoch 41 loss 0.11859101057052612\n",
      "Epoch 42 loss 0.11803539842367172\n",
      "Epoch 43 loss 0.1175752654671669\n",
      "Epoch 44 loss 0.11720921844244003\n",
      "Epoch 45 loss 0.1169344112277031\n",
      "Epoch 46 loss 0.11672459542751312\n",
      "Epoch 47 loss 0.11653424799442291\n",
      "Epoch 48 loss 0.11636356264352798\n",
      "Epoch 49 loss 0.11619806289672852\n",
      "Epoch 50 loss 0.11603754013776779\n",
      "Epoch 51 loss 0.11589634418487549\n",
      "Epoch 52 loss 0.11578763276338577\n",
      "Epoch 53 loss 0.11568759381771088\n",
      "Epoch 54 loss 0.11558134108781815\n",
      "Epoch 55 loss 0.11545681208372116\n",
      "Epoch 56 loss 0.11533039808273315\n",
      "Epoch 57 loss 0.11522006243467331\n",
      "Epoch 58 loss 0.11511848866939545\n",
      "Epoch 59 loss 0.11507125198841095\n",
      "Epoch 60 loss 0.11502992361783981\n",
      "Epoch 61 loss 0.11503331363201141\n",
      "Epoch 62 loss 0.11497361212968826\n",
      "Epoch 63 loss 0.11485482007265091\n",
      "Epoch 64 loss 0.11473409831523895\n",
      "Epoch 65 loss 0.11458645761013031\n",
      "Epoch 66 loss 0.11447004973888397\n",
      "Epoch 67 loss 0.11434385180473328\n",
      "Epoch 68 loss 0.11421139538288116\n",
      "Epoch 69 loss 0.11407876014709473\n",
      "Epoch 70 loss 0.11397174745798111\n",
      "Epoch 71 loss 0.11385595053434372\n",
      "Epoch 72 loss 0.11372464150190353\n",
      "Epoch 73 loss 0.1135953962802887\n",
      "Epoch 74 loss 0.11344164609909058\n",
      "Epoch 75 loss 0.11347600817680359\n",
      "Epoch 76 loss 0.11348359286785126\n",
      "Epoch 77 loss 0.11346623301506042\n",
      "Epoch 78 loss 0.11342595517635345\n",
      "Epoch 79 loss 0.11336444318294525\n",
      "Epoch 80 loss 0.11328256130218506\n",
      "Epoch 81 loss 0.11318525671958923\n",
      "Epoch 82 loss 0.11308032274246216\n",
      "Epoch 83 loss 0.11294867098331451\n",
      "Epoch 84 loss 0.11295425891876221\n",
      "Epoch 85 loss 0.11294583976268768\n",
      "Epoch 86 loss 0.11290837079286575\n",
      "Epoch 87 loss 0.11286215484142303\n",
      "Epoch 88 loss 0.11280833929777145\n",
      "Epoch 89 loss 0.11274731159210205\n",
      "Epoch 90 loss 0.11265084892511368\n",
      "Epoch 91 loss 0.11254655569791794\n",
      "Epoch 92 loss 0.1124495416879654\n",
      "Epoch 93 loss 0.1124182716012001\n",
      "Epoch 94 loss 0.11236625909805298\n",
      "Epoch 95 loss 0.11229679733514786\n",
      "Epoch 96 loss 0.11223645508289337\n",
      "Epoch 97 loss 0.11217477172613144\n",
      "Epoch 98 loss 0.11207591742277145\n",
      "Epoch 99 loss 0.11201848834753036\n",
      "Epoch 100 loss 0.11199644207954407\n",
      "Epoch 101 loss 0.11195504665374756\n",
      "Epoch 102 loss 0.1118868961930275\n",
      "Epoch 103 loss 0.11185947060585022\n",
      "Epoch 104 loss 0.11179959028959274\n",
      "Epoch 105 loss 0.11172998696565628\n",
      "Epoch 106 loss 0.11168394982814789\n",
      "Epoch 107 loss 0.11164151132106781\n",
      "Epoch 108 loss 0.11157586425542831\n",
      "Epoch 109 loss 0.11151924729347229\n",
      "Epoch 110 loss 0.11144965887069702\n",
      "Epoch 111 loss 0.1114310473203659\n",
      "Epoch 112 loss 0.11138653010129929\n",
      "Epoch 113 loss 0.11131643503904343\n",
      "Epoch 114 loss 0.1112910658121109\n",
      "Epoch 115 loss 0.11124216020107269\n",
      "Epoch 116 loss 0.11116329580545425\n",
      "Epoch 117 loss 0.11111842840909958\n",
      "Epoch 118 loss 0.11109703034162521\n",
      "Epoch 119 loss 0.11103019118309021\n",
      "Epoch 120 loss 0.11101015657186508\n",
      "Epoch 121 loss 0.11096833646297455\n",
      "Epoch 122 loss 0.11091423779726028\n",
      "Epoch 123 loss 0.11085910350084305\n",
      "Epoch 124 loss 0.11087451130151749\n",
      "Epoch 125 loss 0.11082888394594193\n",
      "Epoch 126 loss 0.11075320094823837\n",
      "Epoch 127 loss 0.1107296422123909\n",
      "Epoch 128 loss 0.11067525297403336\n",
      "Epoch 129 loss 0.11062934994697571\n",
      "Epoch 130 loss 0.11057083308696747\n",
      "Epoch 131 loss 0.11053508520126343\n",
      "Epoch 132 loss 0.11050564795732498\n",
      "Epoch 133 loss 0.11046576499938965\n",
      "Epoch 134 loss 0.11042575538158417\n",
      "Epoch 135 loss 0.11038410663604736\n",
      "Epoch 136 loss 0.1103476732969284\n",
      "Epoch 137 loss 0.11030125617980957\n",
      "Epoch 138 loss 0.11026112735271454\n",
      "Epoch 139 loss 0.11025521904230118\n",
      "Epoch 140 loss 0.11020291596651077\n",
      "Epoch 141 loss 0.1101434975862503\n",
      "Epoch 142 loss 0.11014266312122345\n",
      "Epoch 143 loss 0.11010719835758209\n",
      "Epoch 144 loss 0.11007620394229889\n",
      "Epoch 145 loss 0.11001407355070114\n",
      "Epoch 146 loss 0.10999201983213425\n",
      "Epoch 147 loss 0.10996311902999878\n",
      "Epoch 148 loss 0.10990860313177109\n",
      "Epoch 149 loss 0.10988407582044601\n"
     ]
    },
    {
     "name": "stderr",
     "output_type": "stream",
     "text": [
      "2025/02/03 03:30:38 WARNING mlflow.utils.requirements_utils: Found torch version (2.1.0a0+32f93b1) contains a local version label (+32f93b1). MLflow logged a pip requirement for this package as 'torch==2.1.0a0' without the local version label to make it installable from PyPI. To specify pip requirements containing local version labels, please use `conda_env` or `pip_requirements`.\n",
      "2025/02/03 03:30:45 WARNING mlflow.utils.requirements_utils: Found torch version (2.1.0a0+32f93b1) contains a local version label (+32f93b1). MLflow logged a pip requirement for this package as 'torch==2.1.0a0' without the local version label to make it installable from PyPI. To specify pip requirements containing local version labels, please use `conda_env` or `pip_requirements`.\n",
      "\u001b[31m2025/02/03 03:30:45 WARNING mlflow.models.model: Model logged without a signature and input example. Please set `input_example` parameter when logging the model to auto infer the model signature.\u001b[0m\n"
     ]
    }
   ],
   "source": [
    "mlflow.set_experiment(experiment_name=\"mlflow pytorch demo\")\n",
    "    \n",
    "dataset = pd.read_csv('https://raw.githubusercontent.com/futurexskill/ml-model-deployment/main/storepurchasedata_large.csv')\n",
    "dataset.describe()\n",
    "dataset.head()\n",
    "\n",
    "X = dataset.iloc[:, :-1].values\n",
    "y = dataset.iloc[:,-1].values\n",
    "\n",
    "\n",
    "X_train, X_test, y_train, y_test = train_test_split(X, y, test_size =.20,random_state=0)\n",
    "\n",
    "from sklearn.preprocessing import StandardScaler\n",
    "sc = StandardScaler()\n",
    "X_train = sc.fit_transform(X_train)\n",
    "X_test = sc.transform(X_test)\n",
    "\n",
    "Xtrain_ = torch.from_numpy(X_train).float()\n",
    "Xtest_ = torch.from_numpy(X_test).float()\n",
    "\n",
    "Xtrain_\n",
    "\n",
    "ytrain_ = torch.from_numpy(y_train)\n",
    "ytest_ = torch.from_numpy(y_test)\n",
    "\n",
    "ytrain_\n",
    "\n",
    "Xtrain_.shape, ytrain_.shape\n",
    "\n",
    "Xtest_.shape, ytest_.shape\n",
    "\n",
    "input_size=2\n",
    "output_size=2\n",
    "hidden_size=10\n",
    "\n",
    "class Net(nn.Module):\n",
    "   def __init__(self):\n",
    "       super(Net, self).__init__()\n",
    "       self.fc1 = torch.nn.Linear(input_size, hidden_size)\n",
    "       self.fc2 = torch.nn.Linear(hidden_size, hidden_size)\n",
    "       self.fc3 = torch.nn.Linear(hidden_size, output_size)\n",
    "\n",
    "\n",
    "   def forward(self, X):\n",
    "       X = torch.relu((self.fc1(X)))\n",
    "       X = torch.relu((self.fc2(X)))\n",
    "       X = self.fc3(X)\n",
    "\n",
    "       return F.log_softmax(X,dim=1)\n",
    "\n",
    "model = Net()\n",
    "\n",
    "optimizer = torch.optim.Adam(model.parameters(), lr=0.01)\n",
    "loss_fn = nn.NLLLoss()\n",
    "\n",
    "epochs = 150\n",
    "\n",
    "for epoch in range(epochs):\n",
    "  optimizer.zero_grad()\n",
    "  Ypred = model(Xtrain_)\n",
    "  loss = loss_fn(Ypred,  ytrain_)\n",
    "  loss.backward()\n",
    "  optimizer.step()\n",
    "  print('Epoch',epoch, 'loss',loss.item())\n",
    "\n",
    "mlflow.end_run()\n",
    "with mlflow.start_run() as run:\n",
    "    mlflow.log_param(\"epochs\", 150)\n",
    "    mlflow.pytorch.log_model(model, \"models\")\n",
    "    mlflow.log_metric(\"loss\", loss.item())"
   ]
  },
  {
   "cell_type": "code",
   "execution_count": null,
   "id": "9427a84d-9f26-4923-8d3b-4c2cf9a5e8db",
   "metadata": {},
   "outputs": [],
   "source": []
  },
  {
   "cell_type": "code",
   "execution_count": null,
   "id": "9faa4ee2-7882-49e7-aa77-139d01766ca7",
   "metadata": {},
   "outputs": [],
   "source": []
  },
  {
   "cell_type": "code",
   "execution_count": null,
   "id": "ff77743c-9fa0-4d9e-a75a-65e802c7d6ea",
   "metadata": {},
   "outputs": [],
   "source": []
  },
  {
   "cell_type": "code",
   "execution_count": null,
   "id": "be5c009e-da07-4900-9b51-7f62e947fa8b",
   "metadata": {},
   "outputs": [],
   "source": []
  },
  {
   "cell_type": "code",
   "execution_count": null,
   "id": "f5ce9a74-f772-44f5-bb8f-721a917a79a4",
   "metadata": {},
   "outputs": [],
   "source": []
  },
  {
   "cell_type": "code",
   "execution_count": null,
   "id": "1bd2bdd6-f7af-4db2-9ccc-73d24d167a1b",
   "metadata": {},
   "outputs": [],
   "source": []
  },
  {
   "cell_type": "code",
   "execution_count": 12,
   "id": "60c51b4c-a3a5-4598-a31e-6bebe3c7cfa9",
   "metadata": {},
   "outputs": [],
   "source": [
    "ngrok.kill()"
   ]
  },
  {
   "cell_type": "code",
   "execution_count": null,
   "id": "d8844b34-32de-4bc1-8b7c-7c46d8118068",
   "metadata": {},
   "outputs": [],
   "source": []
  }
 ],
 "metadata": {
  "kernelspec": {
   "display_name": "Python 3 (ipykernel)",
   "language": "python",
   "name": "python3"
  },
  "language_info": {
   "codemirror_mode": {
    "name": "ipython",
    "version": 3
   },
   "file_extension": ".py",
   "mimetype": "text/x-python",
   "name": "python",
   "nbconvert_exporter": "python",
   "pygments_lexer": "ipython3",
   "version": "3.10.12"
  }
 },
 "nbformat": 4,
 "nbformat_minor": 5
}
