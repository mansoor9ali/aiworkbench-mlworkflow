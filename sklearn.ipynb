{
 "cells": [
  {
   "cell_type": "code",
   "execution_count": 1,
   "id": "a73b1946-8ec4-4d2a-b709-9d4cd6e229f8",
   "metadata": {},
   "outputs": [],
   "source": [
    "import numpy as np\n",
    "import pandas as pd\n",
    "import mlflow\n",
    "import mlflow.sklearn"
   ]
  },
  {
   "cell_type": "code",
   "execution_count": 4,
   "id": "ffbdd38f-e5e9-40a4-8d11-37875f29bcb7",
   "metadata": {},
   "outputs": [
    {
     "name": "stdout",
     "output_type": "stream",
     "text": [
      "loaded training data\n",
      "Completed Feature Scaling\n",
      "Model trained\n",
      "0.992497320471597\n",
      "🏃 View run new-run1-11 at: https://a1e3-67-254-220-141.ngrok-free.app/#/experiments/830479370468138255/runs/272808d4d1bc4bae98f4230b63537951\n",
      "🧪 View experiment at: https://a1e3-67-254-220-141.ngrok-free.app/#/experiments/830479370468138255\n"
     ]
    }
   ],
   "source": [
    "mlflow.sklearn.autolog()\n",
    "\n",
    "#mlflow set experiement\n",
    "mlflow.tracking.set_tracking_uri(\"https://a1e3-67-254-220-141.ngrok-free.app/\")\n",
    "\n",
    "mlflow.set_experiment(experiment_name=\"futurexskill mlflow demo 4\")\n",
    "\n",
    "with mlflow.start_run(run_name = \"new-run1-11\") as run5:\n",
    "    \n",
    "    training_data = pd.read_csv('https://raw.githubusercontent.com/futurexskill/ml-model-deployment/main/storepurchasedata_large.csv')\n",
    "    print(\"loaded training data\")\n",
    "    \n",
    "    training_data.describe()\n",
    "    \n",
    "    X = training_data.iloc[:, :-1].values\n",
    "    y = training_data.iloc[:,-1].values\n",
    "    \n",
    "    from sklearn.model_selection import train_test_split\n",
    "    X_train, X_test, y_train, y_test = train_test_split(X, y, test_size =.60,random_state=0)\n",
    "    \n",
    "    from sklearn.preprocessing import StandardScaler\n",
    "    sc = StandardScaler()\n",
    "    X_train = sc.fit_transform(X_train)\n",
    "    X_test = sc.transform(X_test)\n",
    "    \n",
    "    \"\"\"## Build a Classification model\n",
    "    ### We are using KNN Classifier in this example\n",
    "    *n_neighbors = 5 -* Number of neighbors\n",
    "    *metric = 'minkowski', p = 2* - For Eucledian distance calculation\n",
    "    \"\"\"\n",
    "    print(\"Completed Feature Scaling\")\n",
    "    \n",
    "    from sklearn.neighbors import KNeighborsClassifier\n",
    "    # minkowski is for ecledian distance\n",
    "\n",
    "    classifier = KNeighborsClassifier(n_neighbors = 5, metric = 'minkowski', p = 2)\n",
    "    \n",
    "    # Model training\n",
    "    classifier.fit(X_train, y_train)\n",
    "    print(\"Model trained\")\n",
    "       \n",
    "    y_pred = classifier.predict(X_test)\n",
    "    y_prob = classifier.predict_proba(X_test)[:,1]\n",
    "    \n",
    "    from sklearn.metrics import confusion_matrix\n",
    "    \n",
    "    cm = confusion_matrix(y_test, y_pred)\n",
    "    \n",
    "    from sklearn.metrics import accuracy_score\n",
    "    \n",
    "    model_accuracy = accuracy_score(y_test,y_pred)\n",
    "    \n",
    "    \n",
    "    print(model_accuracy)\n",
    "\n",
    "    mlflow.set_tag(\"Classifier\", \"knn\")\n"
   ]
  },
  {
   "cell_type": "code",
   "execution_count": null,
   "id": "a4f132ee-c933-45aa-8389-5b5872fdc4da",
   "metadata": {},
   "outputs": [],
   "source": []
  }
 ],
 "metadata": {
  "kernelspec": {
   "display_name": "Python 3 (ipykernel)",
   "language": "python",
   "name": "python3"
  },
  "language_info": {
   "codemirror_mode": {
    "name": "ipython",
    "version": 3
   },
   "file_extension": ".py",
   "mimetype": "text/x-python",
   "name": "python",
   "nbconvert_exporter": "python",
   "pygments_lexer": "ipython3",
   "version": "3.10.12"
  }
 },
 "nbformat": 4,
 "nbformat_minor": 5
}
